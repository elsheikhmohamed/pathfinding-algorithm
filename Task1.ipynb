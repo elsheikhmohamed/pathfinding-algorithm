{
 "cells": [
  {
   "cell_type": "code",
   "execution_count": 144,
   "id": "879e5d6a",
   "metadata": {},
   "outputs": [],
   "source": [
    "import numpy as np\n",
    "import random\n",
    "from colorama import Fore\n",
    "from colorama import Style\n",
    "from queue import PriorityQueue\n",
    "import heapq\n",
    "import matplotlib.pyplot as plt\n",
    "import pandas as pd"
   ]
  },
  {
   "cell_type": "code",
   "execution_count": 145,
   "id": "50584556",
   "metadata": {},
   "outputs": [],
   "source": [
    "def create_grid():\n",
    "    # Taking input for creating a variable size grid\n",
    "    height = input(\"Height: \")\n",
    "    width = input(\"Width: \")\n",
    "    print(\"Creating Grid\\n\")\n",
    "    # Creating a 2D-List for the grid\n",
    "    grid = [[0 for i in range(int(width))] for j in range(int(height))]\n",
    "    \n",
    "    return grid, int(height), int(width)"
   ]
  },
  {
   "cell_type": "code",
   "execution_count": 146,
   "id": "72200d97",
   "metadata": {},
   "outputs": [],
   "source": [
    "def populate_grid(game_grid, n, m):\n",
    "    for i in range(n):\n",
    "        for j in range(m):\n",
    "            # placing a random number in range of 0 to 9 on the grid\n",
    "            game_grid[i][j] = random.randint(0, 9)\n",
    "\n",
    "    return game_grid"
   ]
  },
  {
   "cell_type": "code",
   "execution_count": 147,
   "id": "42c6a66f",
   "metadata": {},
   "outputs": [],
   "source": [
    "def print_grid(game_grid, n, m):\n",
    "    for i in range(n):\n",
    "        print()\n",
    "        for j in range(m):\n",
    "            print(\" \", game_grid[i][j], end=\"\")\n",
    "    print(\"\\n\")\n"
   ]
  },
  {
   "cell_type": "code",
   "execution_count": 148,
   "id": "156da770",
   "metadata": {},
   "outputs": [],
   "source": [
    "def path_taken_visual(game_grid, n, m, path):\n",
    "    # Initialize a counter variable and a flag\n",
    "    count = 0\n",
    "    flg = 0\n",
    "\n",
    "    # Loop through each row in the game grid\n",
    "    for i in range(n):\n",
    "        # Print underscores to represent the top border of the cell\n",
    "        for k in range(m*3):\n",
    "            print(\" \", end=\"\")\n",
    "        print()\n",
    "\n",
    "        # Loop through each column in the game grid\n",
    "        for j in range(m):\n",
    "            # Check if the current cell is in the path\n",
    "            for cell in path:\n",
    "                if (int(cell) == count):\n",
    "                    flg = 1\n",
    "            # If the current cell is in the path, print an \"@\" symbol\n",
    "            # Otherwise, print the value of the cell\n",
    "            if (flg == 1):\n",
    "                print(\" \", f\"{Fore.RED}@{Style.RESET_ALL}\", end=\"\")\n",
    "                flg = 0\n",
    "            else:\n",
    "                print(\" \", game_grid[i][j], end=\"\")\n",
    "            # Increment the counter variable\n",
    "            count = count + 1\n",
    "        # Print a vertical bar to represent the right border of the cell\n",
    "        print(\" \")\n",
    "\n",
    "    # Print underscores to represent the bottom border of the grid\n",
    "    for k in range(m*3):\n",
    "        print(\" \", end=\"\")\n",
    "    print(\"\\n\")"
   ]
  },
  {
   "cell_type": "markdown",
   "id": "6eee54d2",
   "metadata": {},
   "source": [
    "In this approach the agent start at Grid(0,0) at the left top corner and make it's way down to right bottom corner of the grid. Since we are going downwards and moving from left to right, the agent checks 3 adjacent grid blocks, the one on the right, the one on the bottom and the diagonal one on the right bottom. The agent checks the smallest among the three and moves onto that, until it has reached it's destination at the last cell of the grid.\n"
   ]
  },
  {
   "cell_type": "code",
   "execution_count": 149,
   "id": "546a8099",
   "metadata": {},
   "outputs": [],
   "source": [
    "def shortest_path(game_grid, n, m):\n",
    "    path_list = []  # a list to store the path the agent takes to reach destination\n",
    "    next_i = 0\n",
    "    next_j = 0\n",
    "    min_num = 99\n",
    "    print(\"Current cell is:\", game_grid[0][0], \"Index i: 0\", \"Index j: 0\")\n",
    "    for i in range(n):\n",
    "        for j in range(m):\n",
    "            if (i == 0 and j == 0):\n",
    "                current_num = game_grid[i][j]\n",
    "\n",
    "                # Adding the minimum number to the path list\n",
    "                path_list.append(0)\n",
    "\n",
    "                # Checking the cell at the right\n",
    "                right = game_grid[i][j+1]\n",
    "                if (min_num >= right):\n",
    "                    min_num = right\n",
    "                    next_i = i\n",
    "                    next_j = j+1\n",
    "                    print(\"Choose the cell at right\")\n",
    "\n",
    "                # Checking the cell at bottom\n",
    "                bottom = game_grid[i+1][j]\n",
    "                if (min_num >= bottom):\n",
    "                    min_num = bottom\n",
    "                    next_i = i+1\n",
    "                    next_j = j\n",
    "                    print(\"Choose the cell at bottom\")\n",
    "\n",
    "                # checking the diagonal cell at the right bottom\n",
    "                bottom_right = game_grid[i+1][j+1]\n",
    "                if (min_num >= bottom_right):\n",
    "                    min_num = bottom_right\n",
    "                    next_i = i+1\n",
    "                    next_j = j+1\n",
    "                    print(\"Choose the cell at bottom right\")\n",
    "            else:\n",
    "                # this condition breaks the loop if destination is reached\n",
    "                if (next_i == n-1 and next_j == m-1):\n",
    "                    break\n",
    "\n",
    "                temp_i = next_i\n",
    "                temp_j = next_j\n",
    "\n",
    "                current_num = game_grid[next_i][next_j]\n",
    "                print(\"Next cell is:\", current_num,\n",
    "                      \"Index i:\", next_i, \"Index j:\", next_j)\n",
    "\n",
    "                # Adding the minimum number to the path list\n",
    "                path_list.append(((next_i*m)+next_j))\n",
    "\n",
    "                min_num = 99  # set minimum to a highest number\n",
    "\n",
    "                # Checking the cell at the right\n",
    "                if (next_j < m-1):  # checking if not out f bound of the matrix\n",
    "                    Right = game_grid[next_i][next_j+1]\n",
    "                    if (min_num >= Right):\n",
    "                        min_num = Right  # selecting a new minimum number\n",
    "                        temp_i = next_i\n",
    "                        temp_j = next_j+1\n",
    "                        print(\"Choose the cell at right\")\n",
    "\n",
    "                # Checking the cell at the Bottom\n",
    "                if (next_i < n-1):  # checking if not out f bound of the matrix\n",
    "                    Bottom = game_grid[next_i+1][next_j]\n",
    "                    if (min_num >= Bottom):\n",
    "                        min_num = Bottom  # selecting a new minimum number\n",
    "                        temp_i = next_i+1\n",
    "                        temp_j = next_j\n",
    "                        print(\"Choose the cell at Bottom\")\n",
    "\n",
    "                # Checking the cell at the Bottom_Right\n",
    "                if (next_i < n-1 and next_j < m-1):  # checking if not out f bound of the matrix\n",
    "                    Bottom_Right = game_grid[next_i+1][next_j+1]\n",
    "                    if (min_num >= Bottom_Right):\n",
    "                        min_num = Bottom_Right  # selecting a new minimum number\n",
    "                        temp_i = next_i+1\n",
    "                        temp_j = next_j+1\n",
    "                        print(\"Choose the cell at Bottom_Right\")\n",
    "\n",
    "                # setting new i and j values\n",
    "                next_i = temp_i\n",
    "                next_j = temp_j\n",
    "\n",
    "    print(\"Next cell is:\", current_num, \"Index i:\",\n",
    "          next_i, \"Index j:\", next_j, \"\\n\\n\")\n",
    "    path_list.append(((next_i*m)+next_j))\n",
    "    return path_list\n"
   ]
  },
  {
   "cell_type": "code",
   "execution_count": 150,
   "id": "e9267c68",
   "metadata": {},
   "outputs": [],
   "source": [
    "# In this function we store the whole grid as a graph. We are going to assign each cell of the grid a number. Suppose if the grid\n",
    "# is 5x5, that means there are 24 elements in the grid from 0 to 24. we assign each corresponding cell that number, take it's\n",
    "# 4 neigbours (up,down,left,right), and assign them the the value stored at the position as it's weight or distance, in the\n",
    "# graph as edges.\n",
    "\n",
    "def convert_grid_to_graph(grid, h, w):\n",
    "    grid_graph = {}  # creating dictionary\n",
    "    count = 0\n",
    "    for i in range(h):\n",
    "        for j in range(w):\n",
    "            grid_graph[str(count)] = {}  # creating nested dictionary\n",
    "\n",
    "            # top  cell block\n",
    "            if (i > 0):  # checking if not out of bounds\n",
    "                up = grid[i-1][j]\n",
    "                # Storing in the dictionary as a neighbour\n",
    "                grid_graph[str(count)][str(abs(count-w))] = up\n",
    "\n",
    "            # bottom  cell block\n",
    "            if (i < h-1):  # checking if not out of bounds\n",
    "                down = grid[i+1][j]\n",
    "                # Storing in the dictionary as a neighbour\n",
    "                grid_graph[str(count)][str(abs(count+w))] = down\n",
    "\n",
    "            # right cell block\n",
    "            if (j < w-1):  # checking if not out of bounds\n",
    "                right = grid[i][j+1]\n",
    "                # Storing in the dictionary as a neighbour\n",
    "                grid_graph[str(count)][str(abs(count+1))] = right\n",
    "\n",
    "            # left cell block\n",
    "            if (j > 0):  # checking if not out of bounds\n",
    "                left = grid[i][j-1]\n",
    "                # Storing in the dictionary as a neighbour\n",
    "                grid_graph[str(count)][str(abs(count-1))] = left\n",
    "\n",
    "            count = count + 1\n",
    "\n",
    "    return grid_graph\n"
   ]
  },
  {
   "cell_type": "code",
   "execution_count": 151,
   "id": "3b8c298b",
   "metadata": {},
   "outputs": [],
   "source": [
    "def dijkstra_algo(graph, start, end):\n",
    "    # distances from the start node to each node\n",
    "    distance_from_start = {start: 0}\n",
    "    # nodes that have already been visited\n",
    "    visited_nodes = set()\n",
    "    # the previous node in the optimal path from the start node\n",
    "    previous_node = {start: None}\n",
    "    # a priority queue to track nodes that still need to be visited, ordered by distance from the start node\n",
    "    nodes_to_visit = PriorityQueue()\n",
    "    nodes_to_visit.put((0, start))\n",
    "\n",
    "    # continue searching while there are still nodes to visit\n",
    "    while nodes_to_visit:\n",
    "        # get the next node with the smallest distance from the start node\n",
    "        current_distance, current_node = nodes_to_visit.get()\n",
    "        # skip the node if it has already been visited\n",
    "        if current_node in visited_nodes:\n",
    "            continue\n",
    "        # mark the node as visited\n",
    "        visited_nodes.add(current_node)\n",
    "        # stop the search if we have reached the end node\n",
    "        if current_node == end:\n",
    "            break\n",
    "        # consider each of the current node's neighbors\n",
    "        for neighbor, distance in graph[current_node].items():\n",
    "            # skip already visited neighbors\n",
    "            if neighbor in visited_nodes:\n",
    "                continue\n",
    "            # calculate the distance from the start node to the neighbor through the current node\n",
    "            distance_through_current = current_distance + distance\n",
    "            # update the distance from the start node to the neighbor if it is shorter than the current known distance\n",
    "            current_distance_to_neighbor = distance_from_start.get(\n",
    "                neighbor, float('inf'))\n",
    "            if distance_through_current < current_distance_to_neighbor:\n",
    "                distance_from_start[neighbor] = distance_through_current\n",
    "                previous_node[neighbor] = current_node\n",
    "                nodes_to_visit.put((distance_through_current, neighbor))\n",
    "\n",
    "    return previous_node\n"
   ]
  },
  {
   "cell_type": "code",
   "execution_count": 152,
   "id": "f97e1268",
   "metadata": {},
   "outputs": [],
   "source": [
    "def optimal_path_finder(path, end):\n",
    "    if end not in path:\n",
    "        return None\n",
    "    vertex = end\n",
    "    temp = vertex\n",
    "    temp_list = []\n",
    "    temp = temp + vertex\n",
    "    temp = temp + end\n",
    "    short_path = []\n",
    "    while vertex is not None:\n",
    "        short_path.append(vertex)\n",
    "        temp = temp + vertex\n",
    "        vertex = path[vertex]\n",
    "    return short_path[::-1]\n"
   ]
  },
  {
   "cell_type": "code",
   "execution_count": 153,
   "id": "a8898255",
   "metadata": {},
   "outputs": [],
   "source": [
    "# this function recives the shortest past found, takes the distance on that path, sum that distance and return the total shortest distance\n",
    "def get_total_dist(shortest_path, Game_Grid):\n",
    "    path_len = 0\n",
    "    count = 0\n",
    "    for i in range(n):\n",
    "        for j in range(m):\n",
    "            for d in shortest_path:\n",
    "                if (count == int(d)):\n",
    "                    path_len = path_len + Game_Grid[i][j]\n",
    "            count = count + 1\n",
    "\n",
    "    return path_len\n"
   ]
  },
  {
   "cell_type": "code",
   "execution_count": 154,
   "id": "9fc4184a",
   "metadata": {},
   "outputs": [],
   "source": [
    "# this function recives the shortest past found, takes the distance on that path, sum that distance and return the total shortest distance\n",
    "def get_timeline(shortest_path, Game_Grid):\n",
    "    path_len = 0\n",
    "    count = 0\n",
    "    timestep = []\n",
    "    for i in range(n):\n",
    "        for j in range(m):\n",
    "            for d in shortest_path:\n",
    "                if (count == int(d)):\n",
    "                    path_len = path_len + Game_Grid[i][j]\n",
    "                    timestep.append(path_len)\n",
    "            count = count + 1\n",
    "\n",
    "    return timestep\n"
   ]
  },
  {
   "cell_type": "code",
   "execution_count": 155,
   "id": "e8be421d",
   "metadata": {},
   "outputs": [],
   "source": [
    "# This function display the index of the of cell, the time step spent on that cell\n",
    "def print_path_taken(game_grid, n, m, path):\n",
    "    count = 0\n",
    "    for i in range(n):\n",
    "        for j in range(m):\n",
    "            for cell in path:\n",
    "                if (count == int(cell)):\n",
    "                    print(\"(\", i, \" , \", j, \")\", \" : \", game_grid[i][j])\n",
    "            count = count + 1\n"
   ]
  },
  {
   "cell_type": "code",
   "execution_count": 156,
   "id": "1eb4660e",
   "metadata": {},
   "outputs": [
    {
     "name": "stdout",
     "output_type": "stream",
     "text": [
      "Creating Grid\n",
      "\n",
      "Game Grid of :  10  x  20\n",
      "\n",
      "  1  3  4  4  2  4  4  1  8  8  7  2  3  0  3  1  3  2  3  3\n",
      "  9  8  3  2  7  6  1  3  1  6  0  9  9  5  3  1  5  2  4  5\n",
      "  2  3  9  9  6  6  3  4  2  6  2  3  9  5  1  4  7  3  4  8\n",
      "  1  3  9  6  7  2  5  3  3  3  9  1  2  5  9  6  8  4  3  0\n",
      "  8  1  4  7  5  8  7  6  6  2  2  1  4  2  7  2  9  9  7  1\n",
      "  3  6  0  7  2  9  6  7  0  9  9  2  7  9  7  9  3  4  4  9\n",
      "  9  9  2  9  3  5  8  0  6  5  6  7  0  2  0  3  0  7  9  7\n",
      "  5  9  8  4  0  9  0  3  4  4  8  7  7  5  8  7  8  5  2  6\n",
      "  6  2  7  5  1  0  6  4  5  5  9  1  5  0  3  6  5  0  2  4\n",
      "  0  4  0  5  4  3  0  1  4  7  6  8  5  2  3  6  9  8  0  8\n",
      "\n"
     ]
    }
   ],
   "source": [
    "# creating the grid as required by the user\n",
    "game_grid, n, m = create_grid()\n",
    "\n",
    "print(\"Game Grid of : \", n, \" x \", m)\n",
    "\n",
    "# This function populates the grid with random values\n",
    "game_grid = populate_grid(game_grid, n, m)\n",
    "\n",
    "# printing the grid\n",
    "print_grid(game_grid, n, m)"
   ]
  },
  {
   "cell_type": "code",
   "execution_count": 157,
   "id": "918e50d7",
   "metadata": {},
   "outputs": [
    {
     "name": "stdout",
     "output_type": "stream",
     "text": [
      "Iterating the grid to find the shortest path using a basic algorithm\n",
      "\n",
      "\n",
      "Current cell is: 1 Index i: 0 Index j: 0\n",
      "Choose the cell at right\n",
      "Next cell is: 3 Index i: 0 Index j: 1\n",
      "Choose the cell at right\n",
      "Choose the cell at Bottom_Right\n",
      "Next cell is: 3 Index i: 1 Index j: 2\n",
      "Choose the cell at right\n",
      "Next cell is: 2 Index i: 1 Index j: 3\n",
      "Choose the cell at right\n",
      "Choose the cell at Bottom_Right\n",
      "Next cell is: 6 Index i: 2 Index j: 4\n",
      "Choose the cell at right\n",
      "Choose the cell at Bottom_Right\n",
      "Next cell is: 2 Index i: 3 Index j: 5\n",
      "Choose the cell at right\n",
      "Next cell is: 5 Index i: 3 Index j: 6\n",
      "Choose the cell at right\n",
      "Next cell is: 3 Index i: 3 Index j: 7\n",
      "Choose the cell at right\n",
      "Next cell is: 3 Index i: 3 Index j: 8\n",
      "Choose the cell at right\n",
      "Choose the cell at Bottom_Right\n",
      "Next cell is: 2 Index i: 4 Index j: 9\n",
      "Choose the cell at right\n",
      "Next cell is: 2 Index i: 4 Index j: 10\n",
      "Choose the cell at right\n",
      "Next cell is: 1 Index i: 4 Index j: 11\n",
      "Choose the cell at right\n",
      "Choose the cell at Bottom\n",
      "Next cell is: 2 Index i: 5 Index j: 11\n",
      "Choose the cell at right\n",
      "Choose the cell at Bottom\n",
      "Choose the cell at Bottom_Right\n",
      "Next cell is: 0 Index i: 6 Index j: 12\n",
      "Choose the cell at right\n",
      "Next cell is: 2 Index i: 6 Index j: 13\n",
      "Choose the cell at right\n",
      "Next cell is: 0 Index i: 6 Index j: 14\n",
      "Choose the cell at right\n",
      "Next cell is: 3 Index i: 6 Index j: 15\n",
      "Choose the cell at right\n",
      "Next cell is: 0 Index i: 6 Index j: 16\n",
      "Choose the cell at right\n",
      "Choose the cell at Bottom_Right\n",
      "Next cell is: 5 Index i: 7 Index j: 17\n",
      "Choose the cell at right\n",
      "Choose the cell at Bottom\n",
      "Next cell is: 0 Index i: 8 Index j: 17\n",
      "Choose the cell at right\n",
      "Choose the cell at Bottom_Right\n",
      "Next cell is: 0 Index i: 9 Index j: 18\n",
      "Choose the cell at right\n",
      "Next cell is: 0 Index i: 9 Index j: 19 \n",
      "\n",
      "\n",
      "Total time it took is:  53 \n",
      "\n"
     ]
    }
   ],
   "source": [
    "print(\"Iterating the grid to find the shortest path using a basic algorithm\\n\\n\")\n",
    "\n",
    "\n",
    "\n",
    "\n",
    "\n",
    "# Naive approach for shortest path\n",
    "shortest_path_list = shortest_path(game_grid, n, m)\n",
    "\n",
    "# uncomment this section of code to see the iteration\n",
    "\n",
    "'''\n",
    "print(\"The shortest path is : \", shortest_path_list, \"\\n\")\n",
    "\n",
    "print(\"The path taken in form of (Cell index i, cell index j) : Time step of that cell\\n\")\n",
    "print_path_taken(game_grid, n, m, shortest_path_list)\n",
    "\n",
    "'''\n",
    "\n",
    "p_len_naieve = get_total_dist(shortest_path_list, game_grid)\n",
    "print(\"Total time it took is: \", p_len_naieve, \"\\n\")\n"
   ]
  },
  {
   "cell_type": "code",
   "execution_count": 158,
   "id": "3f024a86",
   "metadata": {},
   "outputs": [
    {
     "name": "stdout",
     "output_type": "stream",
     "text": [
      "The path taken by naive algorith : \n",
      "\n",
      "                                                            \n",
      "  \u001b[31m@\u001b[0m  \u001b[31m@\u001b[0m  4  4  2  4  4  1  8  8  7  2  3  0  3  1  3  2  3  3 \n",
      "                                                            \n",
      "  9  8  \u001b[31m@\u001b[0m  \u001b[31m@\u001b[0m  7  6  1  3  1  6  0  9  9  5  3  1  5  2  4  5 \n",
      "                                                            \n",
      "  2  3  9  9  \u001b[31m@\u001b[0m  6  3  4  2  6  2  3  9  5  1  4  7  3  4  8 \n",
      "                                                            \n",
      "  1  3  9  6  7  \u001b[31m@\u001b[0m  \u001b[31m@\u001b[0m  \u001b[31m@\u001b[0m  \u001b[31m@\u001b[0m  3  9  1  2  5  9  6  8  4  3  0 \n",
      "                                                            \n",
      "  8  1  4  7  5  8  7  6  6  \u001b[31m@\u001b[0m  \u001b[31m@\u001b[0m  \u001b[31m@\u001b[0m  4  2  7  2  9  9  7  1 \n",
      "                                                            \n",
      "  3  6  0  7  2  9  6  7  0  9  9  \u001b[31m@\u001b[0m  7  9  7  9  3  4  4  9 \n",
      "                                                            \n",
      "  9  9  2  9  3  5  8  0  6  5  6  7  \u001b[31m@\u001b[0m  \u001b[31m@\u001b[0m  \u001b[31m@\u001b[0m  \u001b[31m@\u001b[0m  \u001b[31m@\u001b[0m  7  9  7 \n",
      "                                                            \n",
      "  5  9  8  4  0  9  0  3  4  4  8  7  7  5  8  7  8  \u001b[31m@\u001b[0m  2  6 \n",
      "                                                            \n",
      "  6  2  7  5  1  0  6  4  5  5  9  1  5  0  3  6  5  \u001b[31m@\u001b[0m  2  4 \n",
      "                                                            \n",
      "  0  4  0  5  4  3  0  1  4  7  6  8  5  2  3  6  9  8  \u001b[31m@\u001b[0m  \u001b[31m@\u001b[0m \n",
      "                                                            \n",
      "\n"
     ]
    }
   ],
   "source": [
    "print(\"The path taken by naive algorith : \\n\")\n",
    "path_taken_visual(game_grid, n, m, shortest_path_list)\n"
   ]
  },
  {
   "cell_type": "code",
   "execution_count": 159,
   "id": "d49d2796",
   "metadata": {},
   "outputs": [
    {
     "data": {
      "image/png": "[encoded data removed]",
      "text/plain": [
       "<Figure size 640x480 with 1 Axes>"
      ]
     },
     "metadata": {},
     "output_type": "display_data"
    }
   ],
   "source": [
    "# define figure and axes\n",
    "fig, ax = plt.subplots()\n",
    "\n",
    "# hide the axes\n",
    "fig.patch.set_visible(False)\n",
    "ax.axis('off')\n",
    "ax.axis('tight')\n",
    "\n",
    "# create data\n",
    "df = pd.DataFrame(game_grid)\n",
    "\n",
    "# create table\n",
    "table = ax.table(cellText=df.values, loc='center')\n",
    "\n",
    "count = 0\n",
    "for i in range(n):\n",
    "    for j in range(m):\n",
    "        for cell in shortest_path_list:\n",
    "            if (count == int(cell)):\n",
    "                table[(i, j)].set_facecolor(\"#fdfa56\")\n",
    "        count = count + 1\n",
    "\n",
    "fig.tight_layout()\n",
    "\n",
    "plt.show()\n"
   ]
  },
  {
   "cell_type": "code",
   "execution_count": 160,
   "id": "f2318835",
   "metadata": {},
   "outputs": [
    {
     "name": "stdout",
     "output_type": "stream",
     "text": [
      "Using Dijkstra's Algorithm to find the shortest optimal path\n",
      "\n",
      "Converting the 2D grid into a graph based on it's neigbours and weights\n",
      "\n"
     ]
    },
    {
     "data": {
      "text/plain": [
       "'\\nprint(\"Cell no : \", \"{\", \"Neighbouring cell\", \":\", \"Weight\"\"}\", \"\\n\")\\n\\n# loop to print the Grid Graph\\nfor key, val in grid_graph.items():\\n    print(key, \" : \", val)\\n'"
      ]
     },
     "execution_count": 160,
     "metadata": {},
     "output_type": "execute_result"
    }
   ],
   "source": [
    "print(\"Using Dijkstra's Algorithm to find the shortest optimal path\\n\")\n",
    "print(\"Converting the 2D grid into a graph based on it's neigbours and weights\\n\")\n",
    "\n",
    "\n",
    "\n",
    "# converting the 2D grid into graph\n",
    "grid_graph = convert_grid_to_graph(game_grid, n, m)\n",
    "\n",
    "# uncomment the following to see the 2D graph being converted\n",
    "\n",
    "'''\n",
    "print(\"Cell no : \", \"{\", \"Neighbouring cell\", \":\", \"Weight\"\"}\", \"\\n\")\n",
    "\n",
    "# loop to print the Grid Graph\n",
    "for key, val in grid_graph.items():\n",
    "    print(key, \" : \", val)\n",
    "'''\n"
   ]
  },
  {
   "cell_type": "code",
   "execution_count": 161,
   "id": "2cd64342",
   "metadata": {},
   "outputs": [
    {
     "name": "stdout",
     "output_type": "stream",
     "text": [
      "Running Dijkstra's algorithm on the Graph \n",
      "\n",
      "Finding the Optimal Path\n",
      "\n",
      "Optimal Path is :  ['0', '1', '2', '3', '4', '5', '6', '26', '27', '28', '29', '30', '50', '51', '71', '91', '111', '112', '132', '133', '134', '135', '136', '137', '157', '177', '178', '198', '199'] \n",
      "\n",
      "Total time it took :  76 \n",
      "\n"
     ]
    }
   ],
   "source": [
    "print(\"Running Dijkstra's algorithm on the Graph \\n\")\n",
    "end = str((n*m)-1)\n",
    "path = dijkstra_algo(grid_graph, '0', end)\n",
    "\n",
    "print(\"Finding the Optimal Path\\n\")\n",
    "shortest_path = optimal_path_finder(path, end)\n",
    "\n",
    "print(\"Optimal Path is : \", shortest_path, \"\\n\")\n",
    "\n",
    "# uncomment the following to see the optimal path for Dijkstra algorithm\n",
    "'''\n",
    "print(\"The path taken in form of (Cell index i, cell index j) : Time step of that cell\\n\")\n",
    "print_path_taken(game_grid, n, m, shortest_path)\n",
    "'''\n",
    "\n",
    "p_len_dij = get_total_dist(shortest_path, game_grid)\n",
    "print(\"Total time it took : \", p_len_dij, \"\\n\")\n"
   ]
  },
  {
   "cell_type": "code",
   "execution_count": 162,
   "id": "4526da6f",
   "metadata": {},
   "outputs": [
    {
     "name": "stdout",
     "output_type": "stream",
     "text": [
      "The path taken by Dijkstra algorith : \n",
      "\n",
      "                                                            \n",
      "  \u001b[31m@\u001b[0m  \u001b[31m@\u001b[0m  \u001b[31m@\u001b[0m  \u001b[31m@\u001b[0m  \u001b[31m@\u001b[0m  \u001b[31m@\u001b[0m  \u001b[31m@\u001b[0m  1  8  8  7  2  3  0  3  1  3  2  3  3 \n",
      "                                                            \n",
      "  9  8  3  2  7  6  \u001b[31m@\u001b[0m  \u001b[31m@\u001b[0m  \u001b[31m@\u001b[0m  \u001b[31m@\u001b[0m  \u001b[31m@\u001b[0m  9  9  5  3  1  5  2  4  5 \n",
      "                                                            \n",
      "  2  3  9  9  6  6  3  4  2  6  \u001b[31m@\u001b[0m  \u001b[31m@\u001b[0m  9  5  1  4  7  3  4  8 \n",
      "                                                            \n",
      "  1  3  9  6  7  2  5  3  3  3  9  \u001b[31m@\u001b[0m  2  5  9  6  8  4  3  0 \n",
      "                                                            \n",
      "  8  1  4  7  5  8  7  6  6  2  2  \u001b[31m@\u001b[0m  4  2  7  2  9  9  7  1 \n",
      "                                                            \n",
      "  3  6  0  7  2  9  6  7  0  9  9  \u001b[31m@\u001b[0m  \u001b[31m@\u001b[0m  9  7  9  3  4  4  9 \n",
      "                                                            \n",
      "  9  9  2  9  3  5  8  0  6  5  6  7  \u001b[31m@\u001b[0m  \u001b[31m@\u001b[0m  \u001b[31m@\u001b[0m  \u001b[31m@\u001b[0m  \u001b[31m@\u001b[0m  \u001b[31m@\u001b[0m  9  7 \n",
      "                                                            \n",
      "  5  9  8  4  0  9  0  3  4  4  8  7  7  5  8  7  8  \u001b[31m@\u001b[0m  2  6 \n",
      "                                                            \n",
      "  6  2  7  5  1  0  6  4  5  5  9  1  5  0  3  6  5  \u001b[31m@\u001b[0m  \u001b[31m@\u001b[0m  4 \n",
      "                                                            \n",
      "  0  4  0  5  4  3  0  1  4  7  6  8  5  2  3  6  9  8  \u001b[31m@\u001b[0m  \u001b[31m@\u001b[0m \n",
      "                                                            \n",
      "\n"
     ]
    }
   ],
   "source": [
    "print(\"The path taken by Dijkstra algorith : \\n\")\n",
    "path_taken_visual(game_grid, n, m, shortest_path)"
   ]
  },
  {
   "cell_type": "code",
   "execution_count": 163,
   "id": "7e397918",
   "metadata": {},
   "outputs": [
    {
     "data": {
      "image/png": "[encoded data removed]",
      "text/plain": [
       "<Figure size 640x480 with 1 Axes>"
      ]
     },
     "metadata": {},
     "output_type": "display_data"
    }
   ],
   "source": [
    "# define figure and axes\n",
    "fig, ax = plt.subplots()\n",
    "\n",
    "# hide the axes\n",
    "fig.patch.set_visible(False)\n",
    "ax.axis('off')\n",
    "ax.axis('tight')\n",
    "\n",
    "# create data\n",
    "df = pd.DataFrame(game_grid)\n",
    "\n",
    "# create table\n",
    "table = ax.table(cellText=df.values, loc='center')\n",
    "\n",
    "count = 0\n",
    "for i in range(n):\n",
    "    for j in range(m):\n",
    "        for cell in shortest_path:\n",
    "            if (count == int(cell)):\n",
    "                table[(i, j)].set_facecolor(\"#56fd5c\")\n",
    "        count = count + 1\n",
    "\n",
    "fig.tight_layout()\n",
    "\n",
    "plt.show()\n"
   ]
  },
  {
   "cell_type": "code",
   "execution_count": 164,
   "id": "fdd29d27",
   "metadata": {},
   "outputs": [],
   "source": [
    "time_dij = []\n",
    "time_naive = []\n",
    "time_dij = get_timeline(shortest_path, game_grid)\n",
    "time_naive = get_timeline(shortest_path_list, game_grid)\n"
   ]
  },
  {
   "cell_type": "code",
   "execution_count": 165,
   "id": "28984457",
   "metadata": {},
   "outputs": [
    {
     "data": {
      "image/png": "[encoded data removed]",
      "text/plain": [
       "<Figure size 640x480 with 1 Axes>"
      ]
     },
     "metadata": {},
     "output_type": "display_data"
    }
   ],
   "source": [
    "# line of Dijkstra algo\n",
    "x1 = time_dij\n",
    "y1 = [x for x in range(len(time_dij))]\n",
    "plt.plot(x1, y1, label=\"Dijkstra\")\n",
    "\n",
    "# line of naive algo\n",
    "x2 = time_naive\n",
    "y2 = [x for x in range(len(time_naive))]\n",
    "plt.plot(x2, y2, label=\"Naive\")\n",
    "\n",
    "\n",
    "plt.xlabel('Time Step')\n",
    "\n",
    "plt.ylabel('Cell no')\n",
    "\n",
    "plt.title('Time step compasrrison of Naive and Dijkstra algorithm')\n",
    "\n",
    "plt.legend()\n",
    "plt.show()\n"
   ]
  },
  {
   "cell_type": "code",
   "execution_count": 166,
   "id": "736b71be",
   "metadata": {},
   "outputs": [
    {
     "data": {
      "image/png": "[encoded data removed]",
      "text/plain": [
       "<Figure size 500x500 with 1 Axes>"
      ]
     },
     "metadata": {},
     "output_type": "display_data"
    }
   ],
   "source": [
    "# creating the dataset\n",
    "data = {'Dijkstra': p_len_dij, 'Naive': p_len_naieve}\n",
    "Algo = list(data.keys())\n",
    "Timestep = list(data.values())\n",
    "\n",
    "fig = plt.figure(figsize=(5, 5))\n",
    "\n",
    "# creating the bar plot\n",
    "plt.bar(Algo, Timestep)\n",
    "\n",
    "plt.xlabel(\"Algorithm\")\n",
    "plt.ylabel(\"Total time step\")\n",
    "# plt.title(\"Students enrolled in different courses\")\n",
    "plt.show()\n"
   ]
  },
  {
   "cell_type": "code",
   "execution_count": 167,
   "id": "f80567f9",
   "metadata": {},
   "outputs": [
    {
     "data": {
      "image/png": "[encoded data removed]",
      "text/plain": [
       "<Figure size 640x480 with 1 Axes>"
      ]
     },
     "metadata": {},
     "output_type": "display_data"
    }
   ],
   "source": [
    "width = [m, m]\n",
    "Total_time = [p_len_dij, p_len_naieve]\n",
    "index = ['Dijkstra', 'Naive']\n",
    "df = pd.DataFrame({'Width': width,\n",
    "                   'Total Time': Total_time}, index=index)\n",
    "ax = df.plot.bar(rot=0)\n"
   ]
  },
  {
   "cell_type": "code",
   "execution_count": 168,
   "id": "c79420da",
   "metadata": {},
   "outputs": [
    {
     "data": {
      "image/png": "[encoded data removed]",
      "text/plain": [
       "<Figure size 640x480 with 1 Axes>"
      ]
     },
     "metadata": {},
     "output_type": "display_data"
    }
   ],
   "source": [
    "height = [n, n]\n",
    "Total_time = [p_len_dij, p_len_naieve]\n",
    "index = ['Dijkstra', 'Naive']\n",
    "df = pd.DataFrame({'Height': height,\n",
    "                   'Total Time': Total_time}, index=index)\n",
    "ax = df.plot.bar(rot=0)\n"
   ]
  },
  {
   "cell_type": "markdown",
   "id": "bcd7adde",
   "metadata": {},
   "source": [
    "At times the total distance given by naive approach is less than the distance given by Dijkstra. That is because the naive approach moves diagonally and downwards only, straight towards the goal, where as Dijkstra checks all the 8 edges of a cell and move accordingly.\n"
   ]
  }
 ],
 "metadata": {
  "kernelspec": {
   "display_name": "Python 3.10.7 64-bit",
   "language": "python",
   "name": "python3"
  },
  "language_info": {
   "codemirror_mode": {
    "name": "ipython",
    "version": 3
   },
   "file_extension": ".py",
   "mimetype": "text/x-python",
   "name": "python",
   "nbconvert_exporter": "python",
   "pygments_lexer": "ipython3",
   "version": "3.10.7"
  },
  "vscode": {
   "interpreter": {
    "hash": "aee8b7b246df8f9039afb4144a1f6fd8d2ca17a180786b69acc140d282b71a49"
   }
  }
 },
 "nbformat": 4,
 "nbformat_minor": 5
}
